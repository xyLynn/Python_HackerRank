{
 "cells": [
  {
   "cell_type": "markdown",
   "metadata": {},
   "source": [
    "Given an integer, **n**, print the following values for each integer **i** from **1** to **n**:\n",
    "1. Decimal\n",
    "2. Octal\n",
    "3. Hexadecimal (capitalized)\n",
    "4. Binary\n",
    "\n",
    "The four values must be printed on a single line in the order specified above for each **i** from **1** to **n**. Each value should be space-padded to match the width of the binary value of **n**.\n",
    "\n",
    "### Input Format\n",
    "A single integer denoting **n**.\n",
    "\n",
    "### Constraints\n",
    "**1<=n<=99**\n",
    "\n",
    "### Output Format\n",
    "Print **n** lines where each line  (in the range **1<=i<=n**) contains the respective decimal, octal, capitalized hexadecimal, and binary values of **i**. Each printed value must be formatted to the width of the binary value of **n**."
   ]
  },
  {
   "cell_type": "code",
   "execution_count": 1,
   "metadata": {
    "collapsed": true
   },
   "outputs": [],
   "source": [
    "def print_formatted(number):\n",
    "    w = len(str(bin(number)[2:]))\n",
    "    for i in range(1,number+1):\n",
    "        j1 = str(oct(i)[2:]).rjust(w, ' ')\n",
    "        j2 = hex(i)[2:]\n",
    "        if type(j2) == str:\n",
    "            j2 = j2.upper().rjust(w, ' ')\n",
    "        else:\n",
    "            j2 = str(j2).rjust(w, ' ')\n",
    "        j3 = str(bin(i)[2:]).rjust(w, ' ')\n",
    "        print(str(i).rjust(w, ' '), j1, j2, j3)"
   ]
  },
  {
   "cell_type": "code",
   "execution_count": 2,
   "metadata": {},
   "outputs": [
    {
     "name": "stdout",
     "output_type": "stream",
     "text": [
      "17\n",
      "    1     1     1     1\n",
      "    2     2     2    10\n",
      "    3     3     3    11\n",
      "    4     4     4   100\n",
      "    5     5     5   101\n",
      "    6     6     6   110\n",
      "    7     7     7   111\n",
      "    8    10     8  1000\n",
      "    9    11     9  1001\n",
      "   10    12     A  1010\n",
      "   11    13     B  1011\n",
      "   12    14     C  1100\n",
      "   13    15     D  1101\n",
      "   14    16     E  1110\n",
      "   15    17     F  1111\n",
      "   16    20    10 10000\n",
      "   17    21    11 10001\n"
     ]
    }
   ],
   "source": [
    "if __name__ == '__main__':\n",
    "    n = int(input())\n",
    "    print_formatted(n)"
   ]
  }
 ],
 "metadata": {
  "kernelspec": {
   "display_name": "Python 3",
   "language": "python",
   "name": "python3"
  },
  "language_info": {
   "codemirror_mode": {
    "name": "ipython",
    "version": 3
   },
   "file_extension": ".py",
   "mimetype": "text/x-python",
   "name": "python",
   "nbconvert_exporter": "python",
   "pygments_lexer": "ipython3",
   "version": "3.6.1"
  }
 },
 "nbformat": 4,
 "nbformat_minor": 2
}
