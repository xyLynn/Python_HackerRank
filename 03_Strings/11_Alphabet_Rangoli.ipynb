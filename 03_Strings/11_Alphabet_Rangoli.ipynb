{
 "cells": [
  {
   "cell_type": "markdown",
   "metadata": {},
   "source": [
    "You are given an integer, **N**. Your task is to print an alphabet rangoli of size **N**. (Rangoli is a form of Indian folk art based on creation of patterns.)\n",
    "\n",
    "The center of the rangoli has the first alphabet letter a, and the boundary has the **Nth** alphabet letter (in alphabetical order).\n",
    "\n",
    "### Input Format\n",
    "Only one line of input containing , the size of the rangoli.\n",
    "\n",
    "### Constraints\n",
    "**0<N<27**\n",
    "\n",
    "### Output Format\n",
    "Print the alphabet rangoli in the format explained above."
   ]
  },
  {
   "cell_type": "code",
   "execution_count": 1,
   "metadata": {
    "collapsed": true
   },
   "outputs": [],
   "source": [
    "def print_rangoli(size):\n",
    "    l = list(map(chr, range(97, 123)))\n",
    "    s = ''\n",
    "    for i in range(size, 0, -1):\n",
    "        s = s + l[i-1] \n",
    "        print('-'.join(s).rjust(2*size-1, '-')[:-1] + '-'.join(s[::-1]).ljust(2*size-1, '-'))\n",
    "    for j in range(1, size):\n",
    "        s = s[:-1]\n",
    "        print('-'.join(s).rjust(2*size-1, '-')[:-1] + '-'.join(s[::-1]).ljust(2*size-1, '-'))"
   ]
  },
  {
   "cell_type": "code",
   "execution_count": 2,
   "metadata": {},
   "outputs": [
    {
     "name": "stdout",
     "output_type": "stream",
     "text": [
      "10\n",
      "------------------j------------------\n",
      "----------------j-i-j----------------\n",
      "--------------j-i-h-i-j--------------\n",
      "------------j-i-h-g-h-i-j------------\n",
      "----------j-i-h-g-f-g-h-i-j----------\n",
      "--------j-i-h-g-f-e-f-g-h-i-j--------\n",
      "------j-i-h-g-f-e-d-e-f-g-h-i-j------\n",
      "----j-i-h-g-f-e-d-c-d-e-f-g-h-i-j----\n",
      "--j-i-h-g-f-e-d-c-b-c-d-e-f-g-h-i-j--\n",
      "j-i-h-g-f-e-d-c-b-a-b-c-d-e-f-g-h-i-j\n",
      "--j-i-h-g-f-e-d-c-b-c-d-e-f-g-h-i-j--\n",
      "----j-i-h-g-f-e-d-c-d-e-f-g-h-i-j----\n",
      "------j-i-h-g-f-e-d-e-f-g-h-i-j------\n",
      "--------j-i-h-g-f-e-f-g-h-i-j--------\n",
      "----------j-i-h-g-f-g-h-i-j----------\n",
      "------------j-i-h-g-h-i-j------------\n",
      "--------------j-i-h-i-j--------------\n",
      "----------------j-i-j----------------\n",
      "------------------j------------------\n"
     ]
    }
   ],
   "source": [
    "if __name__ == '__main__':\n",
    "    n = int(input())\n",
    "    print_rangoli(n)"
   ]
  }
 ],
 "metadata": {
  "kernelspec": {
   "display_name": "Python 3",
   "language": "python",
   "name": "python3"
  },
  "language_info": {
   "codemirror_mode": {
    "name": "ipython",
    "version": 3
   },
   "file_extension": ".py",
   "mimetype": "text/x-python",
   "name": "python",
   "nbconvert_exporter": "python",
   "pygments_lexer": "ipython3",
   "version": "3.6.1"
  }
 },
 "nbformat": 4,
 "nbformat_minor": 2
}
