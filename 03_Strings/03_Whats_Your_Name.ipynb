{
 "cells": [
  {
   "cell_type": "markdown",
   "metadata": {},
   "source": [
    "You are given the firstname and lastname of a person on two different lines. Your task is to read them and print the following:\n",
    "\n",
    "> Hello **firstname lastname**! You just delved into python.\n",
    "\n",
    "### Input Format\n",
    "The first line contains the first name, and the second line contains the last name.\n",
    "\n",
    "### Constraints\n",
    "The length of the first and last name ≤ 10.\n",
    "\n",
    "### Output Format\n",
    "Print the output as mentioned above."
   ]
  },
  {
   "cell_type": "code",
   "execution_count": 1,
   "metadata": {
    "collapsed": true
   },
   "outputs": [],
   "source": [
    "def print_full_name(a, b):\n",
    "    print(\"Hello\", a, b+\"!\", \"You just delved into python.\")"
   ]
  },
  {
   "cell_type": "code",
   "execution_count": 2,
   "metadata": {},
   "outputs": [
    {
     "name": "stdout",
     "output_type": "stream",
     "text": [
      "Guido\n",
      "Rossum\n",
      "Hello Guido Rossum! You just delved into python.\n"
     ]
    }
   ],
   "source": [
    "if __name__ == '__main__':\n",
    "    first_name = input()\n",
    "    last_name = input()\n",
    "    print_full_name(first_name, last_name)"
   ]
  }
 ],
 "metadata": {
  "kernelspec": {
   "display_name": "Python 3",
   "language": "python",
   "name": "python3"
  },
  "language_info": {
   "codemirror_mode": {
    "name": "ipython",
    "version": 3
   },
   "file_extension": ".py",
   "mimetype": "text/x-python",
   "name": "python",
   "nbconvert_exporter": "python",
   "pygments_lexer": "ipython3",
   "version": "3.6.1"
  }
 },
 "nbformat": 4,
 "nbformat_minor": 2
}
