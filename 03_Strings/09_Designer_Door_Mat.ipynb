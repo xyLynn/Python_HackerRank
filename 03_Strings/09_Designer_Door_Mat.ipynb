{
 "cells": [
  {
   "cell_type": "markdown",
   "metadata": {},
   "source": [
    "Mr. Vincent works in a door mat manufacturing company. One day, he designed a new door mat with the following specifications:\n",
    "\n",
    "- Mat size must be **N*M**. (**N** is an odd natural number, and **M** is **3** times **N**.)\n",
    "- The design should have 'WELCOME' written in the center.\n",
    "- The design pattern should only use **|**, **.** and **-** characters.\n",
    "\n",
    "### Input Format\n",
    "A single line containing the space separated values of **N** and **M**.\n",
    "\n",
    "### Constraints\n",
    "- **5<N<101**\n",
    "- **15<M<33**\n",
    "\n",
    "### Output Format\n",
    "Output the design pattern."
   ]
  },
  {
   "cell_type": "code",
   "execution_count": 1,
   "metadata": {},
   "outputs": [
    {
     "name": "stdout",
     "output_type": "stream",
     "text": [
      "9 27\n"
     ]
    }
   ],
   "source": [
    "N, M = map(int,input().split()) # More than 6 lines of code will result in 0 score. Blank lines are not counted."
   ]
  },
  {
   "cell_type": "code",
   "execution_count": 2,
   "metadata": {},
   "outputs": [
    {
     "name": "stdout",
     "output_type": "stream",
     "text": [
      "------------.|.------------\n",
      "---------.|..|..|.---------\n",
      "------.|..|..|..|..|.------\n",
      "---.|..|..|..|..|..|..|.---\n",
      "----------WELCOME----------\n",
      "---.|..|..|..|..|..|..|.---\n",
      "------.|..|..|..|..|.------\n",
      "---------.|..|..|.---------\n",
      "------------.|.------------\n"
     ]
    }
   ],
   "source": [
    "for i in range(1,N,2):\n",
    "    print((('.|.'*(i//2)).rjust(M//2-1, '-')+'.|.'+('.|.'*(i//2)).ljust(M//2-1, '-')))  #Enter Code Here\n",
    "print('WELCOME'.center(M, '-'))  #Enter Code Here\n",
    "for i in range(N-2,-1,-2):\n",
    "    print((('.|.'*(i//2)).rjust(M//2-1, '-')+'.|.'+('.|.'*(i//2)).ljust(M//2-1, '-')))  #Enter Code Here"
   ]
  }
 ],
 "metadata": {
  "kernelspec": {
   "display_name": "Python 3",
   "language": "python",
   "name": "python3"
  },
  "language_info": {
   "codemirror_mode": {
    "name": "ipython",
    "version": 3
   },
   "file_extension": ".py",
   "mimetype": "text/x-python",
   "name": "python",
   "nbconvert_exporter": "python",
   "pygments_lexer": "ipython3",
   "version": "3.6.1"
  }
 },
 "nbformat": 4,
 "nbformat_minor": 2
}
