{
 "cells": [
  {
   "cell_type": "markdown",
   "metadata": {},
   "source": [
    "### Task\n",
    "You are given a string **S**. \n",
    "Your task is to find out if the string **S** contains: *alphanumeric characters, alphabetical characters, digits, lowercase and uppercase characters*.\n",
    "\n",
    "### Input Format\n",
    "A single line containing a string **S**.\n",
    "\n",
    "### Constraints\n",
    "**0<len(s)<1000**\n",
    "\n",
    "### Output Format\n",
    "- In the first line, print **True** if **S** has any alphanumeric characters. Otherwise, print **False**. \n",
    "- In the second line, print **True** if **S** has any alphabetical characters. Otherwise, print **False**. \n",
    "- In the third line, print **True** if **S** has any digits. Otherwise, print **False**. \n",
    "- In the fourth line, print **True** if **S** has any lowercase characters. Otherwise, print **False**. \n",
    "- In the fifth line, print **True** if **S** has any uppercase characters. Otherwise, print **False**."
   ]
  },
  {
   "cell_type": "code",
   "execution_count": 1,
   "metadata": {},
   "outputs": [
    {
     "name": "stdout",
     "output_type": "stream",
     "text": [
      "qA2\n",
      "True\n",
      "True\n",
      "True\n",
      "True\n",
      "True\n"
     ]
    }
   ],
   "source": [
    "if __name__ == '__main__':\n",
    "    s = input()\n",
    "    print(any(l.isalnum() for l in s))\n",
    "    print(any(l.isalpha() for l in s))\n",
    "    print(any(l.isdigit() for l in s))\n",
    "    print(any(l.islower() for l in s))\n",
    "    print(any(l.isupper() for l in s))"
   ]
  }
 ],
 "metadata": {
  "kernelspec": {
   "display_name": "Python 3",
   "language": "python",
   "name": "python3"
  },
  "language_info": {
   "codemirror_mode": {
    "name": "ipython",
    "version": 3
   },
   "file_extension": ".py",
   "mimetype": "text/x-python",
   "name": "python",
   "nbconvert_exporter": "python",
   "pygments_lexer": "ipython3",
   "version": "3.6.1"
  }
 },
 "nbformat": 4,
 "nbformat_minor": 2
}
