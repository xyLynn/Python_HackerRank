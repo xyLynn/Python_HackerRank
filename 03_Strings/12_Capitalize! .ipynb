{
 "cells": [
  {
   "cell_type": "markdown",
   "metadata": {},
   "source": [
    "You are given a string **S**. Your task is to capitalize each word of **S**.\n",
    "\n",
    "### Input Format\n",
    "A single line of input containing the string, **S**.\n",
    "\n",
    "### Constraints\n",
    "- **0<len(S)<1000**\n",
    "- The string consists of alphanumeric characters and spaces.\n",
    "\n",
    "**Note:** in a word only the first character is capitalized. Example 12abc when capitalized remains 12abc.\n",
    "\n",
    "### Output Format\n",
    "Print the capitalized string, **S**."
   ]
  },
  {
   "cell_type": "code",
   "execution_count": 1,
   "metadata": {},
   "outputs": [],
   "source": [
    "def capitalize(string):\n",
    "    l = string.split()\n",
    "    s = string.title()\n",
    "    for word in l:\n",
    "        if word[0].isdigit() == True:\n",
    "            k = word.title()\n",
    "            s = s.replace(k, word)\n",
    "    return s"
   ]
  },
  {
   "cell_type": "code",
   "execution_count": 2,
   "metadata": {},
   "outputs": [
    {
     "name": "stdout",
     "output_type": "stream",
     "text": [
      "hello world\n",
      "Hello World\n"
     ]
    }
   ],
   "source": [
    "if __name__ == '__main__':\n",
    "    string = input()\n",
    "    capitalized_string = capitalize(string)\n",
    "    print(capitalized_string)"
   ]
  }
 ],
 "metadata": {
  "kernelspec": {
   "display_name": "Python 3",
   "language": "python",
   "name": "python3"
  },
  "language_info": {
   "codemirror_mode": {
    "name": "ipython",
    "version": 3
   },
   "file_extension": ".py",
   "mimetype": "text/x-python",
   "name": "python",
   "nbconvert_exporter": "python",
   "pygments_lexer": "ipython3",
   "version": "3.6.1"
  }
 },
 "nbformat": 4,
 "nbformat_minor": 2
}
