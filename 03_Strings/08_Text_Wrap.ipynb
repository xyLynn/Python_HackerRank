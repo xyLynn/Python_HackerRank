{
 "cells": [
  {
   "cell_type": "markdown",
   "metadata": {},
   "source": [
    "### Task\n",
    "- You are given a string **S** and width **w**. \n",
    "- Your task is to wrap the string into a paragraph of width **w**.\n",
    "\n",
    "### Input Format\n",
    "- The first line contains a string, **S**. \n",
    "- The second line contains the width, **w**.\n",
    "\n",
    "### Constraints\n",
    "- **0<len(S)<1000**\n",
    "- **0<w<len(S)** \n",
    "\n",
    "### Output Format\n",
    "Print the text wrapped paragraph."
   ]
  },
  {
   "cell_type": "code",
   "execution_count": 1,
   "metadata": {
    "collapsed": true
   },
   "outputs": [],
   "source": [
    "import textwrap"
   ]
  },
  {
   "cell_type": "code",
   "execution_count": 2,
   "metadata": {
    "collapsed": true
   },
   "outputs": [],
   "source": [
    "def wrap(string, max_width):\n",
    "    return textwrap.fill(string, max_width)"
   ]
  },
  {
   "cell_type": "code",
   "execution_count": 3,
   "metadata": {
    "scrolled": true
   },
   "outputs": [
    {
     "name": "stdout",
     "output_type": "stream",
     "text": [
      "ABCDEFGHIJKLIMNOQRSTUVWXYZ\n",
      "4\n",
      "ABCD\n",
      "EFGH\n",
      "IJKL\n",
      "IMNO\n",
      "QRST\n",
      "UVWX\n",
      "YZ\n"
     ]
    }
   ],
   "source": [
    "if __name__ == '__main__':\n",
    "    string, max_width = input(), int(input())\n",
    "    result = wrap(string, max_width)\n",
    "    print(result)"
   ]
  }
 ],
 "metadata": {
  "kernelspec": {
   "display_name": "Python 3",
   "language": "python",
   "name": "python3"
  },
  "language_info": {
   "codemirror_mode": {
    "name": "ipython",
    "version": 3
   },
   "file_extension": ".py",
   "mimetype": "text/x-python",
   "name": "python",
   "nbconvert_exporter": "python",
   "pygments_lexer": "ipython3",
   "version": "3.6.1"
  }
 },
 "nbformat": 4,
 "nbformat_minor": 2
}
