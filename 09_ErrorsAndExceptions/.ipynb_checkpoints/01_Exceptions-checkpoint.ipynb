{
 "cells": [
  {
   "cell_type": "markdown",
   "metadata": {},
   "source": [
    "### Task\n",
    "- You are given two values **a** and **b**.\n",
    "- Perform integer division and print **a/b**.\n",
    "\n",
    "### Input Format\n",
    "- The first line contains **T**, the number of test cases. \n",
    "- The next **T** lines each contain the space separated values of **a** and **b**.\n",
    "\n",
    "### Constraints\n",
    "- **0<T<10**\n",
    "\n",
    "### Output Format\n",
    "- Print the value of **a/b**. \n",
    "- In the case of _ZeroDivisionError_ or _ValueError_, print the error code."
   ]
  },
  {
   "cell_type": "code",
   "execution_count": 1,
   "metadata": {},
   "outputs": [
    {
     "name": "stdout",
     "output_type": "stream",
     "text": [
      "3\n"
     ]
    }
   ],
   "source": [
    "t = int(input())"
   ]
  },
  {
   "cell_type": "code",
   "execution_count": 2,
   "metadata": {},
   "outputs": [
    {
     "name": "stdout",
     "output_type": "stream",
     "text": [
      "1 0\n",
      "Error Code: integer division or modulo by zero\n",
      "2 $\n",
      "Error Code: invalid literal for int() with base 10: '$'\n",
      "3 1\n",
      "3\n"
     ]
    }
   ],
   "source": [
    "for _ in range(t):\n",
    "    a,b = input().split()\n",
    "    try:\n",
    "        print(int(a)//int(b))        \n",
    "    except BaseException as e:\n",
    "        print(\"Error Code:\", e)"
   ]
  }
 ],
 "metadata": {
  "kernelspec": {
   "display_name": "Python 3",
   "language": "python",
   "name": "python3"
  },
  "language_info": {
   "codemirror_mode": {
    "name": "ipython",
    "version": 3
   },
   "file_extension": ".py",
   "mimetype": "text/x-python",
   "name": "python",
   "nbconvert_exporter": "python",
   "pygments_lexer": "ipython3",
   "version": "3.6.1"
  }
 },
 "nbformat": 4,
 "nbformat_minor": 2
}
