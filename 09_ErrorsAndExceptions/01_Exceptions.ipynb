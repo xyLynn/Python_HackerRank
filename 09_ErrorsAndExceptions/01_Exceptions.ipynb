{
 "cells": [
  {
   "cell_type": "markdown",
   "metadata": {},
   "source": [
    "### Task\n",
    "- You are given two values **a** and **b**.\n",
    "- Perform integer division and print **a/b**.\n",
    "\n",
    "### Input Format\n",
    "- The first line contains **T**, the number of test cases. \n",
    "- The next **T** lines each contain the space separated values of **a** and **b**.\n",
    "\n",
    "### Constraints\n",
    "- **0<T<10**\n",
    "\n",
    "### Output Format\n",
    "- Print the value of **a/b**. \n",
    "- In the case of _ZeroDivisionError_ or _ValueError_, print the error code."
   ]
  },
  {
   "cell_type": "code",
   "execution_count": null,
   "metadata": {
    "collapsed": true
   },
   "outputs": [],
   "source": [
    "t = int(input())"
   ]
  },
  {
   "cell_type": "code",
   "execution_count": null,
   "metadata": {
    "collapsed": true
   },
   "outputs": [],
   "source": [
    "for _ in range(t):\n",
    "    a,b = input().split()\n",
    "    try:\n",
    "        print(int(a)//int(b))        \n",
    "    except BaseException as e:\n",
    "        print(\"Error Code:\", e)"
   ]
  }
 ],
 "metadata": {
  "kernelspec": {
   "display_name": "Python 3",
   "language": "python",
   "name": "python3"
  },
  "language_info": {
   "codemirror_mode": {
    "name": "ipython",
    "version": 3
   },
   "file_extension": ".py",
   "mimetype": "text/x-python",
   "name": "python",
   "nbconvert_exporter": "python",
   "pygments_lexer": "ipython3",
   "version": "3.6.1"
  }
 },
 "nbformat": 4,
 "nbformat_minor": 2
}
